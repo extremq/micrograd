{
 "cells": [
  {
   "cell_type": "code",
   "execution_count": 10,
   "id": "initial_id",
   "metadata": {
    "collapsed": true,
    "ExecuteTime": {
     "end_time": "2023-09-08T06:00:01.181820200Z",
     "start_time": "2023-09-08T06:00:01.177244900Z"
    }
   },
   "outputs": [],
   "source": [
    "from src.value import Value"
   ]
  },
  {
   "cell_type": "code",
   "execution_count": 11,
   "outputs": [
    {
     "name": "stdout",
     "output_type": "stream",
     "text": [
      "Value(data=5, grad=0.0) Value(data=6, grad=0.0) Value(data=11, grad=0.0) Value(data=121, grad=0.0)\n",
      "Value(data=5, grad=22.0) Value(data=6, grad=22.0) Value(data=11, grad=22.0) Value(data=121, grad=1.0)\n"
     ]
    }
   ],
   "source": [
    "x = Value(5)\n",
    "y = Value(6)\n",
    "z = x + y\n",
    "k = z ** 2\n",
    "print(x, y, z, k)\n",
    "k.backward()\n",
    "print(x, y, z, k)"
   ],
   "metadata": {
    "collapsed": false,
    "ExecuteTime": {
     "end_time": "2023-09-08T06:00:02.572488900Z",
     "start_time": "2023-09-08T06:00:02.564563400Z"
    }
   },
   "id": "cae620068675b0b3"
  }
 ],
 "metadata": {
  "kernelspec": {
   "display_name": "Python 3",
   "language": "python",
   "name": "python3"
  },
  "language_info": {
   "codemirror_mode": {
    "name": "ipython",
    "version": 2
   },
   "file_extension": ".py",
   "mimetype": "text/x-python",
   "name": "python",
   "nbconvert_exporter": "python",
   "pygments_lexer": "ipython2",
   "version": "2.7.6"
  }
 },
 "nbformat": 4,
 "nbformat_minor": 5
}
